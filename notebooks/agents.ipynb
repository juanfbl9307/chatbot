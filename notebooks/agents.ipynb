{
 "cells": [
  {
   "cell_type": "markdown",
   "source": [
    "# How to have chains"
   ],
   "metadata": {
    "collapsed": false
   },
   "id": "d8e8bafee1f5ad6c"
  },
  {
   "cell_type": "markdown",
   "source": [
    "# 1. Create a simple chain"
   ],
   "metadata": {
    "collapsed": false
   },
   "id": "7ef9e2345f1976b7"
  },
  {
   "cell_type": "markdown",
   "source": [],
   "metadata": {
    "collapsed": false
   },
   "id": "d2ebb78f827334a7"
  },
  {
   "cell_type": "code",
   "outputs": [],
   "source": [
    "from langchain.llms import OpenAI\n",
    "from langchain.chat_models import ChatOpenAI\n",
    "import warnings\n",
    "from langchain_core.output_parsers import StrOutputParser\n",
    "from langchain.agents import initialize_agent\n",
    "from langchain.tools.retriever import create_retriever_tool\n",
    "from dotenv import load_dotenv, find_dotenv\n",
    "import os\n",
    "from langchain.chains import SimpleSequentialChain\n",
    "from langchain.prompts.prompt import PromptTemplate\n",
    "from langchain.chains.llm import LLMChain\n",
    "\n",
    "\n",
    "warnings.filterwarnings(\"ignore\")\n",
    "load_dotenv(find_dotenv(), override=True)\n",
    "openai_api_key=os.getenv('OPENAI_API_KEY')\n",
    "\n",
    "\n",
    "model = \"gpt-3.5-turbo\"\n",
    "llm = ChatOpenAI(temperature=0.5, model=model, max_tokens=4096)"
   ],
   "metadata": {
    "collapsed": false,
    "ExecuteTime": {
     "end_time": "2024-03-20T21:23:21.803805Z",
     "start_time": "2024-03-20T21:23:21.531889Z"
    }
   },
   "id": "2926ee1a23bc0b44",
   "execution_count": 9
  },
  {
   "cell_type": "code",
   "outputs": [
    {
     "name": "stdout",
     "output_type": "stream",
     "text": [
      "['requests', 'requests_get', 'requests_post', 'requests_patch', 'requests_put', 'requests_delete', 'terminal', 'sleep', 'wolfram-alpha', 'google-search', 'google-search-results-json', 'searx-search-results-json', 'bing-search', 'metaphor-search', 'ddg-search', 'google-lens', 'google-serper', 'google-scholar', 'google-finance', 'google-trends', 'google-jobs', 'google-serper-results-json', 'searchapi', 'searchapi-results-json', 'serpapi', 'dalle-image-generator', 'twilio', 'searx-search', 'merriam-webster', 'wikipedia', 'arxiv', 'golden-query', 'pubmed', 'human', 'awslambda', 'stackexchange', 'sceneXplain', 'graphql', 'openweathermap-api', 'dataforseo-api-search', 'dataforseo-api-search-json', 'eleven_labs_text2speech', 'google_cloud_texttospeech', 'reddit_search', 'news-api', 'tmdb-api', 'podcast-api', 'memorize', 'llm-math', 'open-meteo-api']\n"
     ]
    }
   ],
   "source": [
    "from langchain.agents.load_tools import get_all_tool_names, load_tools\n",
    "print(get_all_tool_names())"
   ],
   "metadata": {
    "collapsed": false,
    "ExecuteTime": {
     "end_time": "2024-03-20T21:23:21.810934Z",
     "start_time": "2024-03-20T21:23:21.804814Z"
    }
   },
   "id": "df141d0421d9ea94",
   "execution_count": 10
  },
  {
   "cell_type": "markdown",
   "source": [
    "# Chromadb"
   ],
   "metadata": {
    "collapsed": false
   },
   "id": "c5171e910831e3ce"
  },
  {
   "cell_type": "code",
   "outputs": [],
   "source": [
    "import chromadb\n",
    "from langchain_community.vectorstores import Chroma\n",
    "from langchain_community.embeddings.sentence_transformer import SentenceTransformerEmbeddings\n",
    "\n",
    "embedding_function = SentenceTransformerEmbeddings(model_name=\"all-MiniLM-L6-v2\")\n",
    "\n",
    "collection_name = \"chatbot\"\n",
    "client = chromadb.Client()\n",
    "client.heartbeat()\n",
    "langchain_chroma = Chroma(\n",
    "    client=client,\n",
    "    collection_name=collection_name,\n",
    "    embedding_function=embedding_function,\n",
    ")"
   ],
   "metadata": {
    "collapsed": false,
    "ExecuteTime": {
     "end_time": "2024-03-20T21:23:22.907393Z",
     "start_time": "2024-03-20T21:23:21.812941Z"
    }
   },
   "id": "32a88b24fd8b788e",
   "execution_count": 11
  },
  {
   "cell_type": "markdown",
   "source": [
    "# Loading tools"
   ],
   "metadata": {
    "collapsed": false
   },
   "id": "fbae8e3749cfaa7c"
  },
  {
   "cell_type": "code",
   "outputs": [
    {
     "name": "stdout",
     "output_type": "stream",
     "text": [
      "duckduckgo_search A wrapper around DuckDuckGo Search. Useful for when you need to answer questions about current events. Input should be a search query.\n",
      "Calculator Useful for when you need to answer questions about math. \n",
      "\n",
      "\n",
      "Answer the following questions as best you can. You have access to the following tools:\n",
      "\n",
      "duckduckgo_search: A wrapper around DuckDuckGo Search. Useful for when you need to answer questions about current events. Input should be a search query.\n",
      "Calculator: Useful for when you need to answer questions about math.\n",
      "\n",
      "Use the following format:\n",
      "\n",
      "Question: the input question you must answer\n",
      "Thought: you should always think about what to do\n",
      "Action: the action to take, should be one of [duckduckgo_search, Calculator]\n",
      "Action Input: the input to the action\n",
      "Observation: the result of the action\n",
      "... (this Thought/Action/Action Input/Observation can repeat N times)\n",
      "Thought: I now know the final answer\n",
      "Final Answer: the final answer to the original input question\n",
      "\n",
      "Begin!\n",
      "\n",
      "Question: {input}\n",
      "Thought:{agent_scratchpad}\n"
     ]
    }
   ],
   "source": [
    "tools = load_tools([\"ddg-search\", \"llm-math\"], llm=llm)\n",
    "\n",
    "# find the name and description of each tool\n",
    "print(tools[0].name, tools[0].description)\n",
    "print(tools[1].name, tools[1].description, \"\\n\\n\")\n",
    "\n",
    "## tool name and description\n",
    "\n",
    "#('duckduckgo_search',\n",
    "# 'A wrapper around DuckDuckGo Search. Useful for when you need to answer questions about current events. Input should be a search query.')\n",
    "\n",
    "from langchain.agents import initialize_agent\n",
    "from langchain.memory import ConversationBufferMemory\n",
    "\n",
    "memory = ConversationBufferMemory(memory_key=\"chat_history\", input_key=\"input\", output_key=\"output\",return_messages=True) \n",
    "agent = initialize_agent(\n",
    "        agent=\"zero-shot-react-description\",\n",
    "        tools=tools,\n",
    "        llm=llm,\n",
    "        memory=memory,\n",
    "        return_intermediate_steps= True, # Make sure you set it to True\n",
    "        verbose=True\n",
    "    )\n",
    "print(agent.agent.llm_chain.prompt.template)"
   ],
   "metadata": {
    "collapsed": false,
    "ExecuteTime": {
     "end_time": "2024-03-20T21:23:22.912031Z",
     "start_time": "2024-03-20T21:23:22.907393Z"
    }
   },
   "id": "ae21ddbccc4d0ec0",
   "execution_count": 12
  },
  {
   "cell_type": "markdown",
   "source": [],
   "metadata": {
    "collapsed": false
   },
   "id": "22d31379eb0e2264"
  },
  {
   "cell_type": "markdown",
   "source": [
    "# Create a chain with an agent\n",
    "This agent will be used to answer a list of embeddings questions and predefined QA, there will be a tool that will be watching the conversation and will trigger to create an order.\n",
    "* create a prompt for the agent convesation\n",
    "* create a retriever tool for the QA\n",
    "* create a retriever tool for the inventory\n",
    "* create a tool to identify the order"
   ],
   "metadata": {
    "collapsed": false
   },
   "id": "1ea6e214adc895d5"
  },
  {
   "cell_type": "code",
   "outputs": [
    {
     "name": "stdout",
     "output_type": "stream",
     "text": [
      "\n",
      "\n",
      "\u001B[1m> Entering new AgentExecutor chain...\u001B[0m\n",
      "\u001B[32;1m\u001B[1;3m```json\n",
      "{\n",
      "    \"action\": \"Final Answer\",\n",
      "    \"action_input\": \"Ofrezco una variedad de servicios, como responder preguntas, proporcionar información, explicaciones detalladas sobre diversos temas, entre otros. ¿En qué puedo ayudarte hoy?\"\n",
      "}\n",
      "```\u001B[0m\n",
      "\n",
      "\u001B[1m> Finished chain.\u001B[0m\n"
     ]
    },
    {
     "data": {
      "text/plain": "{'input': 'cuales servicios tienes?',\n 'output': 'Ofrezco una variedad de servicios, como responder preguntas, proporcionar información, explicaciones detalladas sobre diversos temas, entre otros. ¿En qué puedo ayudarte hoy?'}"
     },
     "execution_count": 18,
     "metadata": {},
     "output_type": "execute_result"
    }
   ],
   "source": [
    "from langchain import hub\n",
    "from langchain.agents import AgentExecutor, create_json_chat_agent\n",
    "\n",
    "retriever = langchain_chroma.as_retriever(search_type=\"mmr\")\n",
    "\n",
    "retriever_tool = create_retriever_tool(\n",
    "    retriever,\n",
    "    \"qa_retriever\",\n",
    "    \"Buscar en la base de datos de QA\",\n",
    ")\n",
    "tools = [retriever_tool]\n",
    "prompt = hub.pull(\"hwchase17/react-chat-json\")\n",
    "\n",
    "agent_json = create_json_chat_agent(llm, tools, prompt)\n",
    "\n",
    "\n",
    "agent_executor = AgentExecutor(\n",
    "    agent=agent_json, tools=tools, verbose=True, handle_parsing_errors=True\n",
    ")\n",
    "agent_executor.invoke({\"input\": \"cuales servicios tienes?\"})\n",
    "\n"
   ],
   "metadata": {
    "collapsed": false,
    "ExecuteTime": {
     "end_time": "2024-03-20T21:26:58.226204Z",
     "start_time": "2024-03-20T21:26:55.288887Z"
    }
   },
   "id": "68a1dbf9c559ab14",
   "execution_count": 18
  },
  {
   "cell_type": "code",
   "outputs": [],
   "source": [],
   "metadata": {
    "collapsed": false
   },
   "id": "7f1b5f1a5f73f2e"
  }
 ],
 "metadata": {
  "kernelspec": {
   "display_name": "Python 3",
   "language": "python",
   "name": "python3"
  },
  "language_info": {
   "codemirror_mode": {
    "name": "ipython",
    "version": 2
   },
   "file_extension": ".py",
   "mimetype": "text/x-python",
   "name": "python",
   "nbconvert_exporter": "python",
   "pygments_lexer": "ipython2",
   "version": "2.7.6"
  }
 },
 "nbformat": 4,
 "nbformat_minor": 5
}

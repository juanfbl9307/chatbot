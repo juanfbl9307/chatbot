{
 "cells": [
  {
   "cell_type": "markdown",
   "source": [
    "# How to have chains"
   ],
   "metadata": {
    "collapsed": false
   },
   "id": "d8e8bafee1f5ad6c"
  },
  {
   "cell_type": "markdown",
   "source": [
    "# 1. Create a simple chain"
   ],
   "metadata": {
    "collapsed": false
   },
   "id": "7ef9e2345f1976b7"
  },
  {
   "cell_type": "code",
   "execution_count": null,
   "id": "initial_id",
   "metadata": {
    "collapsed": true
   },
   "outputs": [],
   "source": [
    "from langchain.llms import OpenAI\n",
    "from langchain.chat_models import ChatOpenAI\n",
    "import warnings\n",
    "from langchain_core.output_parsers import StrOutputParser\n",
    "\n",
    "warnings.filterwarnings(\"ignore\")\n",
    "from dotenv import load_dotenv, find_dotenv\n",
    "import os\n",
    "from langchain.chains import SimpleSequentialChain\n",
    "from langchain.prompts.prompt import PromptTemplate\n",
    "from langchain.chains.llm import LLMChain\n",
    "\n",
    "load_dotenv(find_dotenv(), override=True)\n",
    "openai_api_key=os.getenv('OPENAI_API_KEY')\n",
    "\n",
    "\n",
    "model = \"gpt-3.5-turbo\"\n",
    "llm = ChatOpenAI(temperature=0.5, model=model, max_tokens=4096)\n",
    "tempate1 = \"\"\"When did {person_name} born?\n",
    "Date: this is the data of birth:\"\"\"\n",
    "prompt_template1 = PromptTemplate(input_variables=['person_name'], template=tempate1)\n",
    "chain1 = LLMChain(llm=llm, prompt=prompt_template1)\n",
    "\n",
    "\n",
    "\n",
    "template2 = \"\"\"You are a historian. Provide us five major events happened in a given date.\n",
    "{date}\n",
    "\"\"\"\n",
    "prompt_template2 = PromptTemplate(input_variables=['date'], template=template2)\n",
    "\n",
    "chain2 = LLMChain(llm=llm, prompt=prompt_template2)\n",
    "\n",
    "\n",
    "simplechain = SimpleSequentialChain(chains=[chain1, chain2], verbose=True)\n",
    "\n",
    "output=simplechain.run('Barak Obama')\n",
    "\n",
    "print(output)"
   ]
  },
  {
   "cell_type": "markdown",
   "source": [],
   "metadata": {
    "collapsed": false
   },
   "id": "d2ebb78f827334a7"
  },
  {
   "cell_type": "markdown",
   "source": [
    "# 2. Create a chain with an agent"
   ],
   "metadata": {
    "collapsed": false
   },
   "id": "1fbe2082f7ed9a1d"
  },
  {
   "cell_type": "code",
   "outputs": [
    {
     "name": "stdout",
     "output_type": "stream",
     "text": [
      "['requests', 'requests_get', 'requests_post', 'requests_patch', 'requests_put', 'requests_delete', 'terminal', 'sleep', 'wolfram-alpha', 'google-search', 'google-search-results-json', 'searx-search-results-json', 'bing-search', 'metaphor-search', 'ddg-search', 'google-lens', 'google-serper', 'google-scholar', 'google-finance', 'google-trends', 'google-jobs', 'google-serper-results-json', 'searchapi', 'searchapi-results-json', 'serpapi', 'dalle-image-generator', 'twilio', 'searx-search', 'merriam-webster', 'wikipedia', 'arxiv', 'golden-query', 'pubmed', 'human', 'awslambda', 'stackexchange', 'sceneXplain', 'graphql', 'openweathermap-api', 'dataforseo-api-search', 'dataforseo-api-search-json', 'eleven_labs_text2speech', 'google_cloud_texttospeech', 'reddit_search', 'news-api', 'tmdb-api', 'podcast-api', 'memorize', 'llm-math', 'open-meteo-api']\n"
     ]
    }
   ],
   "source": [
    "from langchain.agents.load_tools import get_all_tool_names, load_tools\n",
    "print(get_all_tool_names())"
   ],
   "metadata": {
    "collapsed": false,
    "ExecuteTime": {
     "end_time": "2024-03-20T20:53:17.549004Z",
     "start_time": "2024-03-20T20:53:17.546493Z"
    }
   },
   "id": "df141d0421d9ea94",
   "execution_count": 13
  },
  {
   "cell_type": "markdown",
   "source": [
    "# Loading tools"
   ],
   "metadata": {
    "collapsed": false
   },
   "id": "fbae8e3749cfaa7c"
  },
  {
   "cell_type": "code",
   "outputs": [],
   "source": [
    "tools = load_tools([\"ddg-search\", \"llm-math\"], llm=llm)\n",
    "\n",
    "# find the name and description of each tool\n",
    "print(tools[0].name, tools[0].description)\n",
    "print(tools[1].name, tools[1].description, \"\\n\\n\")\n",
    "\n",
    "## tool name and description\n",
    "\n",
    "#('duckduckgo_search',\n",
    "# 'A wrapper around DuckDuckGo Search. Useful for when you need to answer questions about current events. Input should be a search query.')\n",
    "\n",
    "from langchain.agents import initialize_agent\n",
    "from langchain.memory import ConversationBufferMemory\n",
    "\n",
    "memory = ConversationBufferMemory(memory_key=\"chat_history\", input_key=\"input\", output_key=\"output\",return_messages=True) \n",
    "agent = initialize_agent(\n",
    "        agent=\"zero-shot-react-description\",\n",
    "        tools=tools,\n",
    "        llm=llm,\n",
    "        memory=memory,\n",
    "        return_intermediate_steps= True, # Make sure you set it to True\n",
    "        verbose=True\n",
    "    )\n",
    "print(agent.agent.llm_chain.prompt.template)"
   ],
   "metadata": {
    "collapsed": false
   },
   "id": "ae21ddbccc4d0ec0",
   "execution_count": null
  },
  {
   "cell_type": "markdown",
   "source": [],
   "metadata": {
    "collapsed": false
   },
   "id": "22d31379eb0e2264"
  },
  {
   "cell_type": "markdown",
   "source": [
    "# Create a chain with an agent\n",
    "This agent will be used to answer a list of embeddings questions and predefined QA, there will be a tool that will be watching the conversation and will trigger to create an order.\n",
    "* create a prompt for the agent convesation\n",
    "* create a retriever tool for the QA\n",
    "* create a retriever tool for the inventory\n",
    "* create a tool to identify the order"
   ],
   "metadata": {
    "collapsed": false
   },
   "id": "1ea6e214adc895d5"
  },
  {
   "cell_type": "code",
   "outputs": [],
   "source": [],
   "metadata": {
    "collapsed": false
   },
   "id": "68a1dbf9c559ab14"
  }
 ],
 "metadata": {
  "kernelspec": {
   "display_name": "Python 3",
   "language": "python",
   "name": "python3"
  },
  "language_info": {
   "codemirror_mode": {
    "name": "ipython",
    "version": 2
   },
   "file_extension": ".py",
   "mimetype": "text/x-python",
   "name": "python",
   "nbconvert_exporter": "python",
   "pygments_lexer": "ipython2",
   "version": "2.7.6"
  }
 },
 "nbformat": 4,
 "nbformat_minor": 5
}
